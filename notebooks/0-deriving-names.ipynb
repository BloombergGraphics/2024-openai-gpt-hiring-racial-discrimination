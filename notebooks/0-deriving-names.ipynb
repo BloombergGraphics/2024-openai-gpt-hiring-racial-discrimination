{
 "cells": [
  {
   "cell_type": "markdown",
   "id": "184c72ba-3d48-4230-9786-0488470c25cb",
   "metadata": {},
   "source": [
    "# Deriving demographically-distinct names\n",
    "\n",
    "Get names by gender and race/ethnicity from voter records and Census surveys. \n",
    "\n",
    "Note: Because the NC voter records have changed from the time we initially ran this notebook, you'll end up with a different list of names."
   ]
  },
  {
   "cell_type": "code",
   "execution_count": 1,
   "id": "70b8da00-71fe-4a63-bd80-b4f0780515eb",
   "metadata": {},
   "outputs": [],
   "source": [
    "import json\n",
    "import random\n",
    "import pandas as pd"
   ]
  },
  {
   "cell_type": "markdown",
   "id": "b5dce025-6b91-4eed-94eb-3290253b5e4b",
   "metadata": {},
   "source": [
    "Voter registration data downloaded from this [site](https://www.ncsbe.gov/results-data/voter-registration-data). Read documentation [here](https://s3.amazonaws.com/dl.ncsbe.gov/data/layout_ncvoter.txt)"
   ]
  },
  {
   "cell_type": "code",
   "execution_count": 2,
   "id": "3886c0ce-c7e7-4e00-adbf-78e8509f0024",
   "metadata": {},
   "outputs": [],
   "source": [
    "# inputs\n",
    "url_nc = \"https://s3.amazonaws.com/dl.ncsbe.gov/data/ncvoter_Statewide.zip\"\n",
    "fn_ssa = '../data/input/top_100_baby_names_ssa.tsv' # https://www.ssa.gov/oact/babynames/decades/century.html\n",
    "fn_census = '../data/input/Names_2010Census_Top1000.csv' # https://www.census.gov/topics/population/genealogy/data/2010_surnames.html\n",
    "\n",
    "# outputs\n",
    "fn_men = '../data/input/top_mens_names.json'\n",
    "fn_women = '../data/input/top_womens_names.json'"
   ]
  },
  {
   "cell_type": "code",
   "execution_count": 3,
   "id": "0777279f-c816-4fc8-a759-b160f5bbef19",
   "metadata": {},
   "outputs": [
    {
     "name": "stderr",
     "output_type": "stream",
     "text": [
      "/var/folders/sj/0bmsn0t57yb1tzg0xyg_9thm0000gq/T/ipykernel_44969/975801948.py:2: DtypeWarning: Columns (23,34,35,36,37,38,39,41,42,45,46,47,48,49,50,51,52,53,54,55,56,57,58,59,60,61,62,65,66) have mixed types. Specify dtype option on import or set low_memory=False.\n",
      "  df = pd.read_csv(url_nc, compression='zip', sep='\\t', encoding = \"ISO-8859-1\")\n"
     ]
    }
   ],
   "source": [
    "# read the file directly from s3 here\n",
    "df = pd.read_csv(url_nc, compression='zip', sep='\\t', encoding = \"ISO-8859-1\")"
   ]
  },
  {
   "cell_type": "code",
   "execution_count": 4,
   "id": "886e3359-17d4-404b-9963-7d923760a438",
   "metadata": {},
   "outputs": [
    {
     "data": {
      "text/plain": [
       "8562269"
      ]
     },
     "execution_count": 4,
     "metadata": {},
     "output_type": "execute_result"
    }
   ],
   "source": [
    "len(df)"
   ]
  },
  {
   "cell_type": "markdown",
   "id": "d4f4f1bf-c448-4499-9c98-8db8807ccfef",
   "metadata": {},
   "source": [
    "The race and ethnicity values are encoded, here is a translation."
   ]
  },
  {
   "cell_type": "code",
   "execution_count": 5,
   "id": "e0fa0e65-7c9a-46dd-9dab-00ed656433e4",
   "metadata": {},
   "outputs": [],
   "source": [
    "racecode2legiable = {\n",
    "    'W' : 'White',\n",
    "    'B' : 'Black',\n",
    "    'U' : 'Undesignated',\n",
    "    'O' : 'Other',\n",
    "    'A' : 'Asian',\n",
    "    'I' : 'AMERICAN INDIAN OR ALASKAN NATIVE',\n",
    "    'M' : 'TWO or MORE RACES',\n",
    "    'P' : 'NATIVE HAWAIIAN or PACIFIC ISLANDER'  \n",
    "}\n",
    "\n",
    "ethnicitycode2legible = {\n",
    "    'NL' : 'Not latino',\n",
    "    'HL' : 'Hispanic or Latino',\n",
    "    'UN' : 'Undesignated'\n",
    "}"
   ]
  },
  {
   "cell_type": "code",
   "execution_count": 6,
   "id": "be08fb5c-28b2-41b1-bfe4-052d39b28ea4",
   "metadata": {},
   "outputs": [],
   "source": [
    "# filter to hispanic/latino\n",
    "birthyear_retired = 1958\n",
    "\n",
    "# filter by gender\n",
    "men = df[(df.gender_code == 'M') & \n",
    "         (df.birth_year > birthyear_retired)]\n",
    "women = df[(df.gender_code == 'F') & \n",
    "           (df.birth_year > birthyear_retired)]\n",
    "\n",
    "men_nl = men[men.ethnic_code == 'NL']\n",
    "men_hl = men[men.ethnic_code == 'HL']\n",
    "\n",
    "women_nl = women[women.ethnic_code == 'NL']\n",
    "women_hl = women[women.ethnic_code == 'HL']"
   ]
  },
  {
   "cell_type": "markdown",
   "id": "f5826f92-eac2-4312-9b86-5d2a55e980a5",
   "metadata": {},
   "source": [
    "Change the names for certian exceptions"
   ]
  },
  {
   "cell_type": "code",
   "execution_count": 7,
   "id": "70e729ff-e0af-43e7-aa98-335938258128",
   "metadata": {},
   "outputs": [],
   "source": [
    "# renaming files for famous names\n",
    "manual = {\n",
    "    'ALAN YANG': 'ALAN ZHANG',\n",
    "    'JACOB KRUEGER': 'JACOB OCONNELL',\n",
    "    'ALLYSON SCHWARTZ': 'ALLYSON OCONNELL',\n",
    "    'JACK BAUER' : 'JACK SCHWARTZ'\n",
    "}"
   ]
  },
  {
   "cell_type": "markdown",
   "id": "b5c3f2a7-66da-4113-a36a-5f2d436c53b5",
   "metadata": {},
   "source": [
    "## Get first names from voter records\n",
    "\n",
    "Get the most popular first names distinct to each demographic. For Black and White names, get names with 90% or greater racial shares."
   ]
  },
  {
   "cell_type": "code",
   "execution_count": 8,
   "id": "fc70181b-980b-45ef-adf2-7b9d3fdbdef7",
   "metadata": {},
   "outputs": [],
   "source": [
    "gender2race2names = {'M' : {}, 'W': {}}\n",
    "N = 100\n",
    "\n",
    "## men\n",
    "pivot = pd.pivot_table(men_nl, index='first_name',values='ncid', columns='race_code', aggfunc='nunique')\n",
    "piv_norm = pivot.divide(pivot.sum(axis=1), axis=0)\n",
    "piv_norm['N'] = pivot.sum(axis=1)\n",
    "for race in ['W', 'B']:\n",
    "    names = piv_norm[piv_norm[race] > .9].sort_values(by=['N'], ascending=False).head(N).index.tolist()\n",
    "    gender2race2names['M'][race] = names\n",
    "\n",
    "# asian\n",
    "race = 'A'\n",
    "names = men_nl[men_nl.race_code == 'A'].first_name.value_counts().head(N).index.tolist()\n",
    "gender2race2names['M'][race] = names\n",
    "\n",
    "# hispanic\n",
    "race = 'H'\n",
    "names = men_hl[men_hl.race_code == 'O'].first_name.value_counts().head(N).index.tolist()\n",
    "gender2race2names['M'][race] = names\n",
    "\n",
    "## women\n",
    "pivot = pd.pivot_table(women_nl, index='first_name',values='ncid', columns='race_code', aggfunc='nunique')\n",
    "piv_norm = pivot.divide(pivot.sum(axis=1), axis=0)\n",
    "piv_norm['N'] = pivot.sum(axis=1)\n",
    "for race in ['W', 'B']:\n",
    "    names = piv_norm[piv_norm[race] > .9].sort_values(by=['N'], ascending=False).head(N).index.tolist()\n",
    "    gender2race2names['W'][race] = names\n",
    "\n",
    "# asian\n",
    "race = 'A'\n",
    "names = women_nl[women_nl.race_code == 'A'].first_name.value_counts().head(N).index.tolist()\n",
    "gender2race2names['W'][race] = names\n",
    "\n",
    "# hispanic\n",
    "pivot = pd.pivot_table(women_hl, index='first_name',values='ncid', columns='race_code', aggfunc='nunique')\n",
    "piv_norm = pivot.divide(pivot.sum(axis=1), axis=0)\n",
    "piv_norm['N'] = pivot.sum(axis=1)\n",
    "\n",
    "race = 'H'\n",
    "names = piv_norm.sort_values(by=['N'], ascending=False).head(N).index.tolist()\n",
    "gender2race2names['W'][race] = names"
   ]
  },
  {
   "cell_type": "markdown",
   "id": "2b4097c1-a16b-40f8-8ba2-089986b69431",
   "metadata": {},
   "source": [
    "## get surnames from decennial census\n",
    "\n",
    "Get the surnames with the greatest share for each racial and ethnic demographic."
   ]
  },
  {
   "cell_type": "code",
   "execution_count": 9,
   "id": "c76b9e69-8107-4c4f-a4eb-f998df5507a6",
   "metadata": {},
   "outputs": [],
   "source": [
    "census = pd.read_csv(fn_census, header=2)"
   ]
  },
  {
   "cell_type": "code",
   "execution_count": 10,
   "id": "9570ffa7-987d-411d-a617-385c4279002e",
   "metadata": {},
   "outputs": [],
   "source": [
    "census['FREQUENCY (COUNT)'] = census['FREQUENCY (COUNT)'].str.replace(',', '').astype(float)"
   ]
  },
  {
   "cell_type": "code",
   "execution_count": 11,
   "id": "b335b599-12f3-400b-915c-dd8e0345679d",
   "metadata": {},
   "outputs": [],
   "source": [
    "race2col = {\n",
    "    'W' : 'PERCENT NON-HISPANIC OR LATINO WHITE ALONE',\n",
    "    'B' : 'PERCENT NON-HISPANIC OR LATINO BLACK OR AFRICAN AMERICAN ALONE',\n",
    "    'A' : 'PERCENT NON-HISPANIC OR LATINO ASIAN AND NATIVE HAWAIIAN AND OTHER PACIFIC ISLANDER ALONE',\n",
    "    'H' : 'PERCENT HISPANIC OR LATINO ORIGIN'\n",
    "}"
   ]
  },
  {
   "cell_type": "code",
   "execution_count": 12,
   "id": "9962753d-b4ce-4200-ae2d-3d5db03571a1",
   "metadata": {},
   "outputs": [],
   "source": [
    "# convert to float\n",
    "census[race2col['B']] = census[race2col['B']].replace({'(S)':None}).astype(float)"
   ]
  },
  {
   "cell_type": "code",
   "execution_count": 13,
   "id": "1be5f7c1-a14a-47a4-9d16-a7bcc36ad35b",
   "metadata": {},
   "outputs": [],
   "source": [
    "# treat these surnames differently to match s asian first and last names\n",
    "s_asian_surnames = ['PATEL', 'SINGH', 'KAUR']"
   ]
  },
  {
   "cell_type": "code",
   "execution_count": 28,
   "id": "5d60fe6f-9515-4f12-a5e6-3bc386eb1853",
   "metadata": {},
   "outputs": [],
   "source": [
    "race2surnames = {}\n",
    "for race, col in race2col.items():\n",
    "    surnames = census[\n",
    "        (census['FREQUENCY (COUNT)'] > 10000) & \n",
    "        (~census['SURNAME'].isin(s_asian_surnames))\n",
    "    ].sort_values(by=col, ascending=False)[:20]['SURNAME'].tolist()\n",
    "    race2surnames[race] = surnames"
   ]
  },
  {
   "cell_type": "markdown",
   "id": "f3ae725d-e67a-4d3b-9617-32f3c6c57870",
   "metadata": {},
   "source": [
    "Align South Asian surnames to first names. Note that these first names were gathered manually based on the top names, and are not exhaustive."
   ]
  },
  {
   "cell_type": "code",
   "execution_count": 19,
   "id": "a5255e01-ce01-4d8d-9cdf-03d29d054254",
   "metadata": {},
   "outputs": [],
   "source": [
    "# match these names to `s_asian_surnames`.\n",
    "south_asian = set([\n",
    "    'MUHAMMAD','MOHAMMED', 'MOHAMMAD','SYED', 'OMAR', 'AHMED',\n",
    "    'VIJAY', 'SANJAY', 'RAHUL', 'AMIT', 'RAVI', 'ROHAN', 'RAJESH',\n",
    "    'NIKHIL', 'SANDEEP', 'VIVEK', 'SURESH', 'SUNIL', 'SRINIVAS',\n",
    "    'RAMESH', 'KRISHNA', 'MANOJ', 'ARJUN', 'ANIL', 'ROHIT',\n",
    "    'AJAY', 'ANAND', 'ARUN', 'RAJ', 'ANISH', 'KIRAN', 'VARUN',\n",
    "    'VENKATA', 'RISHI', 'ASHISH', 'PRANAV', 'PRASHANT', 'MANISH',\n",
    "    'NEHA', 'POOJA', 'DIVYA', 'PRIYA', 'ANJALI', 'NISHA', \n",
    "    'PRIYANKA', 'LAKSHMI', 'SHREYA', 'MEENA'\n",
    "])"
   ]
  },
  {
   "cell_type": "code",
   "execution_count": 30,
   "id": "0f917318-0424-49ec-8d59-dc700d5ece2a",
   "metadata": {},
   "outputs": [],
   "source": [
    "random.seed(303)\n",
    "gender2race2fullnames = {'M': {} , 'W' : {}}\n",
    "for gender, items in gender2race2names.items():\n",
    "    for race, names in items.items():\n",
    "        full_names = []\n",
    "        for name in names:\n",
    "            if (name in south_asian) and (race == 'A'):\n",
    "                surname = random.choice(s_asian_surnames)\n",
    "            else:\n",
    "                surname = random.choice(race2surnames[race])\n",
    "            full_name = f\"{name} {surname}\"    \n",
    "            full_names.append(full_name)\n",
    "        gender2race2fullnames[gender][race] = sorted(full_names)"
   ]
  },
  {
   "cell_type": "code",
   "execution_count": 31,
   "id": "54ad1dbe-d30f-4f15-9ff1-bf52ca244b9b",
   "metadata": {},
   "outputs": [],
   "source": [
    "reform = {(outerKey, innerKey): values for outerKey, innerDict in gender2race2fullnames.items() for innerKey, values in innerDict.items()}"
   ]
  },
  {
   "cell_type": "code",
   "execution_count": 32,
   "id": "cbe19174-4e22-442f-86e5-d271bbed846a",
   "metadata": {},
   "outputs": [],
   "source": [
    "race2names_m = gender2race2fullnames['M']\n",
    "race2names_w = gender2race2fullnames['W']"
   ]
  },
  {
   "cell_type": "markdown",
   "id": "9714e17a-a9b2-414c-9f0a-d6f3e90d8e68",
   "metadata": {},
   "source": [
    "## Save the demographically-distinct names\n",
    "\n",
    "Having trouble reproducing the exact fist-surname name combinations? This is likely due to incremental edits to celebrity names that we removed and updates to the NC voter records."
   ]
  },
  {
   "cell_type": "code",
   "execution_count": 33,
   "id": "a8b0775c-d8dd-4925-aac1-2671a3a3a524",
   "metadata": {},
   "outputs": [],
   "source": [
    "for race, names in race2names_m.items():\n",
    "    race2names_m[race] = [manual.get(_, _) for _ in names]"
   ]
  },
  {
   "cell_type": "code",
   "execution_count": 34,
   "id": "675c6c43-8ad2-4bdb-a77e-aaaf70d8b836",
   "metadata": {},
   "outputs": [],
   "source": [
    "for race, names in race2names_w.items():\n",
    "    race2names_w[race] = [manual.get(_, _) for _ in names]"
   ]
  },
  {
   "cell_type": "code",
   "execution_count": 35,
   "id": "c1d82d47-c413-4e15-9e57-cdc06497c0b8",
   "metadata": {},
   "outputs": [
    {
     "data": {
      "text/plain": [
       "['AARON VANG', 'ADAM TRAN', 'ADITYA WU', 'AJAY PATEL', 'ALAN PHAM']"
      ]
     },
     "execution_count": 35,
     "metadata": {},
     "output_type": "execute_result"
    }
   ],
   "source": [
    "# example of 5 Asian male's names:\n",
    "race2names_m['A'][:5]"
   ]
  },
  {
   "cell_type": "markdown",
   "id": "82196f90-d629-4948-a736-37999c588c4f",
   "metadata": {},
   "source": [
    "This is where we save the dictionaries:"
   ]
  },
  {
   "cell_type": "code",
   "execution_count": null,
   "id": "8ecd275b-980a-48a9-80f4-49e889b848b7",
   "metadata": {},
   "outputs": [],
   "source": [
    "# with open(fn_men, 'w') as f:\n",
    "#     f.write(json.dumps(race2names_m))\n",
    "\n",
    "# with open(fn_women, 'w') as f:\n",
    "#     f.write(json.dumps(race2names_w))"
   ]
  }
 ],
 "metadata": {
  "kernelspec": {
   "display_name": "Python 3 (ipykernel)",
   "language": "python",
   "name": "python3"
  },
  "language_info": {
   "codemirror_mode": {
    "name": "ipython",
    "version": 3
   },
   "file_extension": ".py",
   "mimetype": "text/x-python",
   "name": "python",
   "nbconvert_exporter": "python",
   "pygments_lexer": "ipython3",
   "version": "3.11.4"
  }
 },
 "nbformat": 4,
 "nbformat_minor": 5
}
